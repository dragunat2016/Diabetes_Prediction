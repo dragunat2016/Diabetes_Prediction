{
 "cells": [
  {
   "cell_type": "markdown",
   "metadata": {},
   "source": [
    "# Notebook Containing Neural Networks\n",
    "\n",
    "This notebook has the modeling done for neural networks. Neural networks generate a lot of content and would make the main notebook less readable."
   ]
  },
  {
   "cell_type": "code",
   "execution_count": 7,
   "metadata": {},
   "outputs": [],
   "source": [
    "from keras.models import Sequential\n",
    "from keras.layers import Dense\n",
    "import tensorflow as tf\n",
    "from keras import callbacks\n",
    "from keras.callbacks import EarlyStopping, ModelCheckpoint\n",
    "import pickle\n",
    "import matplotlib.pyplot as plt"
   ]
  },
  {
   "cell_type": "code",
   "execution_count": 8,
   "metadata": {},
   "outputs": [],
   "source": [
    "# Load X_train, X_test, y_train, and y_test\n",
    "\n",
    "\n",
    "with open('X_train.pickle', 'rb') as xtr:\n",
    "    X_train = pickle.load(xtr)\n",
    "    \n",
    "with open('X_test.pickle', 'rb') as xtst:\n",
    "    X_test = pickle.load(xtst)\n",
    "    \n",
    "with open('y_train.pickle', 'rb') as ytr:\n",
    "    y_train = pickle.load(ytr)\n",
    "    \n",
    "with open('y_test.pickle', 'rb') as ytst:\n",
    "    y_test = pickle.load(ytst)"
   ]
  },
  {
   "cell_type": "markdown",
   "metadata": {},
   "source": [
    "##  Neural Network 1 \n",
    "### Architecture\n",
    "* 2 dense layers\n",
    " * 12 neurons in the first dense layer\n",
    " * 8 neurons in the second dense layer\n",
    "* relu activation\n",
    "* Use sigmoid curve"
   ]
  },
  {
   "cell_type": "code",
   "execution_count": 9,
   "metadata": {},
   "outputs": [],
   "source": [
    "# Instantiate the model\n",
    "\n",
    "nn_model1 = Sequential()"
   ]
  },
  {
   "cell_type": "code",
   "execution_count": 10,
   "metadata": {},
   "outputs": [],
   "source": [
    "# 1st layer: input_dim=8, 12 nodes, RELU\n",
    "nn_model1.add(Dense(12, input_dim=25, activation='relu'))\n",
    "# 2nd layer: 8 nodes, RELU\n",
    "nn_model1.add(Dense(8, activation='relu'))\n",
    "# output layer: dim=1, activation sigmoid\n",
    "nn_model1.add(Dense(1, activation='sigmoid' ))\n",
    "\n",
    "# Compile the model\n",
    "nn_model1.compile(loss='binary_crossentropy',   # since we are predicting 0/1\n",
    "             optimizer='adam',\n",
    "             metrics=['accuracy'])"
   ]
  },
  {
   "cell_type": "code",
   "execution_count": 11,
   "metadata": {},
   "outputs": [
    {
     "name": "stdout",
     "output_type": "stream",
     "text": [
      "Epoch 1/30\n",
      "3513/3513 [==============================] - 5s 1ms/step - loss: 0.5253 - accuracy: 0.7376 - val_loss: 0.5101 - val_accuracy: 0.7471\n",
      "Epoch 2/30\n",
      "3513/3513 [==============================] - 4s 1ms/step - loss: 0.5039 - accuracy: 0.7528 - val_loss: 0.5047 - val_accuracy: 0.7521\n",
      "Epoch 3/30\n",
      "3513/3513 [==============================] - 5s 1ms/step - loss: 0.5011 - accuracy: 0.7547 - val_loss: 0.5050 - val_accuracy: 0.7504\n",
      "Epoch 4/30\n",
      "3513/3513 [==============================] - 5s 2ms/step - loss: 0.4992 - accuracy: 0.7564 - val_loss: 0.5020 - val_accuracy: 0.7535\n",
      "Epoch 5/30\n",
      "3513/3513 [==============================] - 5s 1ms/step - loss: 0.4982 - accuracy: 0.7561 - val_loss: 0.5024 - val_accuracy: 0.7511\n",
      "Epoch 6/30\n",
      "3513/3513 [==============================] - 5s 1ms/step - loss: 0.4975 - accuracy: 0.7572 - val_loss: 0.5027 - val_accuracy: 0.7536\n",
      "Epoch 7/30\n",
      "3513/3513 [==============================] - 5s 1ms/step - loss: 0.4971 - accuracy: 0.7579 - val_loss: 0.5023 - val_accuracy: 0.7528\n",
      "Epoch 8/30\n",
      "3513/3513 [==============================] - 4s 1ms/step - loss: 0.4969 - accuracy: 0.7573 - val_loss: 0.5025 - val_accuracy: 0.7540\n",
      "Epoch 9/30\n",
      "3513/3513 [==============================] - 4s 1ms/step - loss: 0.4965 - accuracy: 0.7575 - val_loss: 0.5027 - val_accuracy: 0.7523\n",
      "Epoch 10/30\n",
      "3513/3513 [==============================] - 5s 1ms/step - loss: 0.4962 - accuracy: 0.7580 - val_loss: 0.5017 - val_accuracy: 0.7540\n",
      "Epoch 11/30\n",
      "3513/3513 [==============================] - 4s 1ms/step - loss: 0.4962 - accuracy: 0.7583 - val_loss: 0.5023 - val_accuracy: 0.7539\n",
      "Epoch 12/30\n",
      "3513/3513 [==============================] - 5s 1ms/step - loss: 0.4956 - accuracy: 0.7589 - val_loss: 0.5021 - val_accuracy: 0.7526\n",
      "Epoch 13/30\n",
      "3513/3513 [==============================] - 5s 1ms/step - loss: 0.4956 - accuracy: 0.7577 - val_loss: 0.5032 - val_accuracy: 0.7520\n",
      "Epoch 14/30\n",
      "3513/3513 [==============================] - 5s 1ms/step - loss: 0.4953 - accuracy: 0.7581 - val_loss: 0.5026 - val_accuracy: 0.7542\n",
      "Epoch 15/30\n",
      "3513/3513 [==============================] - 5s 1ms/step - loss: 0.4954 - accuracy: 0.7595 - val_loss: 0.5015 - val_accuracy: 0.7522\n",
      "Epoch 16/30\n",
      "3513/3513 [==============================] - 4s 1ms/step - loss: 0.4950 - accuracy: 0.7585 - val_loss: 0.5021 - val_accuracy: 0.7518\n",
      "Epoch 17/30\n",
      "3513/3513 [==============================] - 5s 1ms/step - loss: 0.4947 - accuracy: 0.7593 - val_loss: 0.5022 - val_accuracy: 0.7525\n",
      "Epoch 18/30\n",
      "3513/3513 [==============================] - 5s 1ms/step - loss: 0.4949 - accuracy: 0.7586 - val_loss: 0.5027 - val_accuracy: 0.7545\n",
      "Epoch 19/30\n",
      "3513/3513 [==============================] - 4s 1ms/step - loss: 0.4949 - accuracy: 0.7593 - val_loss: 0.5019 - val_accuracy: 0.7531\n",
      "Epoch 20/30\n",
      "3513/3513 [==============================] - 4s 1ms/step - loss: 0.4944 - accuracy: 0.7591 - val_loss: 0.5033 - val_accuracy: 0.7506\n",
      "Epoch 21/30\n",
      "3513/3513 [==============================] - 5s 1ms/step - loss: 0.4944 - accuracy: 0.7591 - val_loss: 0.5044 - val_accuracy: 0.7506\n",
      "Epoch 22/30\n",
      "3513/3513 [==============================] - 5s 1ms/step - loss: 0.4943 - accuracy: 0.7587 - val_loss: 0.5032 - val_accuracy: 0.7537\n",
      "Epoch 23/30\n",
      "3513/3513 [==============================] - 5s 1ms/step - loss: 0.4943 - accuracy: 0.7587 - val_loss: 0.5029 - val_accuracy: 0.7526\n",
      "Epoch 24/30\n",
      "3513/3513 [==============================] - 5s 2ms/step - loss: 0.4942 - accuracy: 0.7597 - val_loss: 0.5025 - val_accuracy: 0.7535\n",
      "Epoch 25/30\n",
      "3513/3513 [==============================] - 7s 2ms/step - loss: 0.4943 - accuracy: 0.7596 - val_loss: 0.5034 - val_accuracy: 0.7520\n",
      "Epoch 26/30\n",
      "3513/3513 [==============================] - 6s 2ms/step - loss: 0.4942 - accuracy: 0.7590 - val_loss: 0.5022 - val_accuracy: 0.7535\n",
      "Epoch 27/30\n",
      "3513/3513 [==============================] - 6s 2ms/step - loss: 0.4939 - accuracy: 0.7602 - val_loss: 0.5018 - val_accuracy: 0.7519\n",
      "Epoch 28/30\n",
      "3513/3513 [==============================] - 5s 1ms/step - loss: 0.4940 - accuracy: 0.7599 - val_loss: 0.5026 - val_accuracy: 0.7530\n",
      "Epoch 29/30\n",
      "3513/3513 [==============================] - 5s 1ms/step - loss: 0.4938 - accuracy: 0.7596 - val_loss: 0.5032 - val_accuracy: 0.7499\n",
      "Epoch 30/30\n",
      "3513/3513 [==============================] - 5s 1ms/step - loss: 0.4939 - accuracy: 0.7590 - val_loss: 0.5028 - val_accuracy: 0.7508\n"
     ]
    }
   ],
   "source": [
    "history1 = nn_model1.fit(X_train,\n",
    "                    y_train,\n",
    "                    validation_data=(X_test, y_test),\n",
    "                    epochs=30,\n",
    "                    batch_size=16)"
   ]
  },
  {
   "cell_type": "code",
   "execution_count": 12,
   "metadata": {},
   "outputs": [
    {
     "data": {
      "image/png": "[encoded data removed]",
      "text/plain": [
       "<Figure size 432x288 with 1 Axes>"
      ]
     },
     "metadata": {
      "needs_background": "light"
     },
     "output_type": "display_data"
    }
   ],
   "source": [
    "model_1_val_dict = history1.history\n",
    "loss_values1 = model_1_val_dict[\"loss\"]\n",
    "val_loss_values1 = model_1_val_dict[\"val_loss\"]\n",
    "\n",
    "epochs = range(1,len(loss_values1) + 1)\n",
    "plt.plot(epochs, loss_values1, \"g\", label=\"Training loss\")\n",
    "plt.plot(epochs, val_loss_values1, \"blue\", label=\"Validation loss\")\n",
    "\n",
    "plt.title(\"Training and Validation loss\")\n",
    "plt.xlabel(\"Epochs\")\n",
    "plt.ylabel(\"Loss\")\n",
    "plt.legend()\n",
    "plt.show()"
   ]
  },
  {
   "cell_type": "code",
   "execution_count": 13,
   "metadata": {},
   "outputs": [
    {
     "data": {
      "image/png": "[encoded data removed]",
      "text/plain": [
       "<Figure size 432x288 with 1 Axes>"
      ]
     },
     "metadata": {
      "needs_background": "light"
     },
     "output_type": "display_data"
    }
   ],
   "source": [
    "acc_values1 = model_1_val_dict[\"accuracy\"]\n",
    "val_acc_values1 = model_1_val_dict[\"val_accuracy\"]\n",
    "\n",
    "plt.plot(epochs, acc_values1, \"r\", label=\"Training acc\")\n",
    "plt.plot(epochs, val_acc_values1, \"blue\", label=\"Validation acc\")\n",
    "\n",
    "plt.title(\"Training and Validation accuracy\")\n",
    "plt.xlabel(\"Epochs\")\n",
    "plt.ylabel(\"Accuracy\")\n",
    "plt.legend()\n",
    "plt.show()"
   ]
  },
  {
   "cell_type": "markdown",
   "metadata": {},
   "source": [
    "Achieved an accuracy off 75% on the testing data set which is similar to the ensemble methods covered in the main notebook. Let's increase the layers neurons and add early stoppage since the validation accuracy decreased towards the end of the epochs.\n",
    "\n",
    "The validation accuracy somewhat remained constant throughout the number off epochs. Increasing the number off epochs may not help the next iteration."
   ]
  },
  {
   "cell_type": "markdown",
   "metadata": {},
   "source": [
    "##  Neural Network 2\n",
    "### Architecture\n",
    "* 3 dense layers\n",
    " * 40 neurons in the first layer\n",
    " * 20 neurons in the second\n",
    " * 10 neurons in the third\n",
    "* relu activation\n",
    "* Use sigmoid curve\n",
    "* Early Stopping"
   ]
  },
  {
   "cell_type": "code",
   "execution_count": null,
   "metadata": {},
   "outputs": [],
   "source": [
    "# Instantiate the model\n",
    "\n",
    "nn_model2 = Sequential()"
   ]
  },
  {
   "cell_type": "code",
   "execution_count": 19,
   "metadata": {},
   "outputs": [],
   "source": [
    "# 1st layer: input_dim=8, 40 nodes, RELU\n",
    "nn_model2.add(Dense(40, input_dim=25, activation='relu'))\n",
    "# 2nd layer: 20 nodes, RELU\n",
    "nn_model2.add(Dense(20, activation='relu'))\n",
    "# 3rd layer: \n",
    "nn_model2.add(Dense(10, activation='relu'))\n",
    "\n",
    "# output layer: dim=1, activation sigmoid\n",
    "nn_model2.add(Dense(1, activation='sigmoid' ))\n",
    "\n",
    "#  early stopping - monitor for validation loss. Wait for 5 epochs if loss increases. Allow for 1% error\n",
    "es = [EarlyStopping(monitor='val_loss', mode='min', verbose=1, patience=5,min_delta=1),\n",
    "                   ModelCheckpoint(filepath='Neural_Network', monitor='val_loss',\n",
    "                                  save_best_only=True)]\n",
    "\n",
    "# Compile the model\n",
    "nn_model2.compile(loss='binary_crossentropy',   # since we are predicting 0/1\n",
    "             optimizer='adam',\n",
    "             metrics=['accuracy'])"
   ]
  },
  {
   "cell_type": "code",
   "execution_count": 20,
   "metadata": {},
   "outputs": [
    {
     "name": "stdout",
     "output_type": "stream",
     "text": [
      "Epoch 1/30\n",
      "3490/3513 [============================>.] - ETA: 0s - loss: 0.5243 - accuracy: 0.7482WARNING:tensorflow:From /Users/dhruvragunathan/opt/anaconda3/envs/learn-env/lib/python3.8/site-packages/tensorflow/python/training/tracking/tracking.py:111: Model.state_updates (from tensorflow.python.keras.engine.training) is deprecated and will be removed in a future version.\n",
      "Instructions for updating:\n",
      "This property should not be used in TensorFlow 2.0, as updates are applied automatically.\n",
      "WARNING:tensorflow:From /Users/dhruvragunathan/opt/anaconda3/envs/learn-env/lib/python3.8/site-packages/tensorflow/python/training/tracking/tracking.py:111: Layer.updates (from tensorflow.python.keras.engine.base_layer) is deprecated and will be removed in a future version.\n",
      "Instructions for updating:\n",
      "This property should not be used in TensorFlow 2.0, as updates are applied automatically.\n",
      "INFO:tensorflow:Assets written to: Neural_Network/assets\n",
      "3513/3513 [==============================] - 9s 2ms/step - loss: 0.5240 - accuracy: 0.7483 - val_loss: 0.5085 - val_accuracy: 0.7503\n",
      "Epoch 2/30\n",
      "3501/3513 [============================>.] - ETA: 0s - loss: 0.5020 - accuracy: 0.7580INFO:tensorflow:Assets written to: Neural_Network/assets\n",
      "3513/3513 [==============================] - 8s 2ms/step - loss: 0.5018 - accuracy: 0.7580 - val_loss: 0.5052 - val_accuracy: 0.7532\n",
      "Epoch 3/30\n",
      "3509/3513 [============================>.] - ETA: 0s - loss: 0.5007 - accuracy: 0.7580INFO:tensorflow:Assets written to: Neural_Network/assets\n",
      "3513/3513 [==============================] - 8s 2ms/step - loss: 0.5006 - accuracy: 0.7581 - val_loss: 0.5051 - val_accuracy: 0.7514\n",
      "Epoch 4/30\n",
      "3513/3513 [==============================] - 7s 2ms/step - loss: 0.5005 - accuracy: 0.7559 - val_loss: 0.5117 - val_accuracy: 0.7496\n",
      "Epoch 5/30\n",
      "3513/3513 [==============================] - 7s 2ms/step - loss: 0.4994 - accuracy: 0.7575 - val_loss: 0.5062 - val_accuracy: 0.7518\n",
      "Epoch 6/30\n",
      "3500/3513 [============================>.] - ETA: 0s - loss: 0.4983 - accuracy: 0.7578INFO:tensorflow:Assets written to: Neural_Network/assets\n",
      "3513/3513 [==============================] - 9s 2ms/step - loss: 0.4983 - accuracy: 0.7578 - val_loss: 0.5038 - val_accuracy: 0.7523\n",
      "Epoch 00006: early stopping\n"
     ]
    }
   ],
   "source": [
    "history2 = nn_model2.fit(X_train,\n",
    "                    y_train,\n",
    "                    validation_data=(X_test, y_test),\n",
    "                    epochs=30,\n",
    "                    batch_size=16,\n",
    "                       callbacks=es)"
   ]
  },
  {
   "cell_type": "markdown",
   "metadata": {},
   "source": [
    "Increasing the number of layers, and adding significantly more neurons over 3 times, did not improve the model accuracy. The early stopping parameter helped in stoping the model early on when it was not gaining accuracy. Similarly to the first iteration, the accuracy remained constant across the epochs. \n",
    "\n",
    "This appears to be the best we can do with neural networks. We will use the saved model to compare its results to the ensemble models explored previously."
   ]
  }
 ],
 "metadata": {
  "kernelspec": {
   "display_name": "Python 3",
   "language": "python",
   "name": "python3"
  },
  "language_info": {
   "codemirror_mode": {
    "name": "ipython",
    "version": 3
   },
   "file_extension": ".py",
   "mimetype": "text/x-python",
   "name": "python",
   "nbconvert_exporter": "python",
   "pygments_lexer": "ipython3",
   "version": "3.8.5"
  }
 },
 "nbformat": 4,
 "nbformat_minor": 4
}
